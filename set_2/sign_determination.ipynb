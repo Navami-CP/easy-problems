{
 "cells": [
  {
   "cell_type": "code",
   "execution_count": 2,
   "id": "02b5e4c7-373b-4b20-9c69-22a2492e19f3",
   "metadata": {},
   "outputs": [
    {
     "name": "stdin",
     "output_type": "stream",
     "text": [
      "Enter a number -5\n"
     ]
    },
    {
     "name": "stdout",
     "output_type": "stream",
     "text": [
      "The number is negative\n"
     ]
    }
   ],
   "source": [
    "#7\n",
    "#Sign determination\n",
    "n=float(input(\"Enter a number\"))\n",
    "if n<0:\n",
    "    print(\"The number is negative\")\n",
    "elif n>0:\n",
    "    print(\"The number is positive\")\n",
    "else:\n",
    "    print(\"The number is zero\")"
   ]
  },
  {
   "cell_type": "code",
   "execution_count": null,
   "id": "c9a67e84-78b0-450c-87b3-1d4a2d484efb",
   "metadata": {},
   "outputs": [],
   "source": []
  }
 ],
 "metadata": {
  "kernelspec": {
   "display_name": "Python 3 (ipykernel)",
   "language": "python",
   "name": "python3"
  },
  "language_info": {
   "codemirror_mode": {
    "name": "ipython",
    "version": 3
   },
   "file_extension": ".py",
   "mimetype": "text/x-python",
   "name": "python",
   "nbconvert_exporter": "python",
   "pygments_lexer": "ipython3",
   "version": "3.13.5"
  }
 },
 "nbformat": 4,
 "nbformat_minor": 5
}
