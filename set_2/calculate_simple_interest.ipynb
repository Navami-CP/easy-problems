{
 "cells": [
  {
   "cell_type": "code",
   "execution_count": 1,
   "id": "143c2fd7-f09f-4696-b985-014c23a789e9",
   "metadata": {},
   "outputs": [
    {
     "name": "stdin",
     "output_type": "stream",
     "text": [
      "Principal amount:  10000\n",
      "Rate of interest: 14\n",
      "Time,in years 4\n"
     ]
    },
    {
     "name": "stdout",
     "output_type": "stream",
     "text": [
      "Simple interest is  5600.0\n"
     ]
    }
   ],
   "source": [
    "#6\n",
    "#Calculate simple interest\n",
    "p=int(input(\"Principal amount: \"))\n",
    "r=float(input(\"Rate of interest:\"))\n",
    "t=float(input(\"Time,in years\"))\n",
    "simple_interest=p*r*t/100\n",
    "print(\"Simple interest is \",simple_interest)"
   ]
  },
  {
   "cell_type": "code",
   "execution_count": null,
   "id": "90d07183-bfee-4f18-bbcb-3d6ef0e71ee7",
   "metadata": {},
   "outputs": [],
   "source": []
  }
 ],
 "metadata": {
  "kernelspec": {
   "display_name": "Python 3 (ipykernel)",
   "language": "python",
   "name": "python3"
  },
  "language_info": {
   "codemirror_mode": {
    "name": "ipython",
    "version": 3
   },
   "file_extension": ".py",
   "mimetype": "text/x-python",
   "name": "python",
   "nbconvert_exporter": "python",
   "pygments_lexer": "ipython3",
   "version": "3.13.5"
  }
 },
 "nbformat": 4,
 "nbformat_minor": 5
}
