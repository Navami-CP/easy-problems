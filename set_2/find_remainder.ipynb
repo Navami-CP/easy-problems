{
 "cells": [
  {
   "cell_type": "code",
   "execution_count": 1,
   "id": "6e802205-e622-42b5-9ada-3698a0b0ea91",
   "metadata": {},
   "outputs": [
    {
     "name": "stdin",
     "output_type": "stream",
     "text": [
      "Divident: 56.7\n",
      "Divisor: 4\n"
     ]
    },
    {
     "name": "stdout",
     "output_type": "stream",
     "text": [
      "The remainder when 56.7 is divided by 4.0 is  0.7000000000000028\n"
     ]
    }
   ],
   "source": [
    "#8\n",
    "#To find remainder\n",
    "a=float(input(\"Divident:\"))\n",
    "b=float(input(\"Divisor:\"))\n",
    "print(f\"The remainder when {a} is divided by {b} is \",a%b)"
   ]
  },
  {
   "cell_type": "code",
   "execution_count": null,
   "id": "4f5b844d-d2b9-4853-8c13-3fed4013423a",
   "metadata": {},
   "outputs": [],
   "source": []
  }
 ],
 "metadata": {
  "kernelspec": {
   "display_name": "Python 3 (ipykernel)",
   "language": "python",
   "name": "python3"
  },
  "language_info": {
   "codemirror_mode": {
    "name": "ipython",
    "version": 3
   },
   "file_extension": ".py",
   "mimetype": "text/x-python",
   "name": "python",
   "nbconvert_exporter": "python",
   "pygments_lexer": "ipython3",
   "version": "3.13.5"
  }
 },
 "nbformat": 4,
 "nbformat_minor": 5
}
