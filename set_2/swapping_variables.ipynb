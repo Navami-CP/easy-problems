{
 "cells": [
  {
   "cell_type": "code",
   "execution_count": 1,
   "id": "a43bfb2e-8ee9-48e7-afbf-5ca78044bcf8",
   "metadata": {},
   "outputs": [
    {
     "name": "stdin",
     "output_type": "stream",
     "text": [
      "a= 2\n",
      "b= 4\n"
     ]
    },
    {
     "name": "stdout",
     "output_type": "stream",
     "text": [
      "a= 4\n",
      "b= 2\n"
     ]
    }
   ],
   "source": [
    "#9\n",
    "#swap two variables\n",
    "a=int(input(\"a=\"))\n",
    "b=int(input(\"b=\"))\n",
    "a,b=b,a\n",
    "##After swap\n",
    "print(\"a=\",a)\n",
    "print(\"b=\",b)\n"
   ]
  },
  {
   "cell_type": "code",
   "execution_count": null,
   "id": "7befa0db-48b2-4a5e-8d66-075517cc1a32",
   "metadata": {},
   "outputs": [],
   "source": []
  }
 ],
 "metadata": {
  "kernelspec": {
   "display_name": "Python 3 (ipykernel)",
   "language": "python",
   "name": "python3"
  },
  "language_info": {
   "codemirror_mode": {
    "name": "ipython",
    "version": 3
   },
   "file_extension": ".py",
   "mimetype": "text/x-python",
   "name": "python",
   "nbconvert_exporter": "python",
   "pygments_lexer": "ipython3",
   "version": "3.13.5"
  }
 },
 "nbformat": 4,
 "nbformat_minor": 5
}
