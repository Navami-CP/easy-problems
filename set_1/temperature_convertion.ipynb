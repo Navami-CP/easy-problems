{
 "cells": [
  {
   "cell_type": "code",
   "execution_count": 2,
   "id": "19aa0aab-6abf-40e3-961e-4f985931cb8a",
   "metadata": {},
   "outputs": [
    {
     "name": "stdin",
     "output_type": "stream",
     "text": [
      " Enter the temperature in celsius:  57.8\n"
     ]
    },
    {
     "name": "stdout",
     "output_type": "stream",
     "text": [
      "57.8 degrees celsius in Fahrenheit is 136.04 degrees Fahrenheit\n"
     ]
    }
   ],
   "source": [
    "#5\n",
    "#convert celsius to Fahrenheit\n",
    "t_celsius=float(input(\" Enter the temperature in celsius: \"))\n",
    "t_fahrenheit=(t_celsius*9/5)+32\n",
    "print(f\"{t_celsius} degrees celsius in Fahrenheit is {t_fahrenheit} degrees Fahrenheit\")"
   ]
  },
  {
   "cell_type": "code",
   "execution_count": null,
   "id": "e580ac48-0793-4941-8f07-cbfda045f77a",
   "metadata": {},
   "outputs": [],
   "source": []
  }
 ],
 "metadata": {
  "kernelspec": {
   "display_name": "Python 3 (ipykernel)",
   "language": "python",
   "name": "python3"
  },
  "language_info": {
   "codemirror_mode": {
    "name": "ipython",
    "version": 3
   },
   "file_extension": ".py",
   "mimetype": "text/x-python",
   "name": "python",
   "nbconvert_exporter": "python",
   "pygments_lexer": "ipython3",
   "version": "3.13.5"
  }
 },
 "nbformat": 4,
 "nbformat_minor": 5
}
