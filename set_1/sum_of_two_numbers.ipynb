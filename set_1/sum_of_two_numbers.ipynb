{
 "cells": [
  {
   "cell_type": "code",
   "execution_count": 1,
   "id": "8aac5400-1579-4f6f-ace5-cdcc9a0de5cc",
   "metadata": {},
   "outputs": [
    {
     "name": "stdin",
     "output_type": "stream",
     "text": [
      "Enter your number a : 5\n",
      "Enter your number b : 6\n"
     ]
    },
    {
     "name": "stdout",
     "output_type": "stream",
     "text": [
      "The sum of a and b is  11\n"
     ]
    }
   ],
   "source": [
    "#2\n",
    "#Addition of two numbers\n",
    "a=int(input(\"Enter your number a :\"))\n",
    "b=int(input(\"Enter your number b :\"))\n",
    "sum=a+b\n",
    "print(\"The sum of a and b is \",sum)"
   ]
  },
  {
   "cell_type": "code",
   "execution_count": null,
   "id": "1963245a-cdfd-4b2d-a908-94c4ab65bc2b",
   "metadata": {},
   "outputs": [],
   "source": []
  }
 ],
 "metadata": {
  "kernelspec": {
   "display_name": "Python 3 (ipykernel)",
   "language": "python",
   "name": "python3"
  },
  "language_info": {
   "codemirror_mode": {
    "name": "ipython",
    "version": 3
   },
   "file_extension": ".py",
   "mimetype": "text/x-python",
   "name": "python",
   "nbconvert_exporter": "python",
   "pygments_lexer": "ipython3",
   "version": "3.13.5"
  }
 },
 "nbformat": 4,
 "nbformat_minor": 5
}
