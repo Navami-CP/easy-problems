{
 "cells": [
  {
   "cell_type": "code",
   "execution_count": 1,
   "id": "59d06680-e488-4e1d-8cad-f1a9650fc91c",
   "metadata": {},
   "outputs": [
    {
     "name": "stdin",
     "output_type": "stream",
     "text": [
      "Enter your name : Navami\n"
     ]
    },
    {
     "name": "stdout",
     "output_type": "stream",
     "text": [
      "Namah Shivaya, Navami\n"
     ]
    }
   ],
   "source": [
    "#3\n",
    "name=input(\"Enter your name :\")\n",
    "print(\"Namah Shivaya,\",name)"
   ]
  }
 ],
 "metadata": {
  "kernelspec": {
   "display_name": "Python 3 (ipykernel)",
   "language": "python",
   "name": "python3"
  },
  "language_info": {
   "codemirror_mode": {
    "name": "ipython",
    "version": 3
   },
   "file_extension": ".py",
   "mimetype": "text/x-python",
   "name": "python",
   "nbconvert_exporter": "python",
   "pygments_lexer": "ipython3",
   "version": "3.13.5"
  }
 },
 "nbformat": 4,
 "nbformat_minor": 5
}
