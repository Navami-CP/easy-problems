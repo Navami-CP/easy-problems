{
 "cells": [
  {
   "cell_type": "code",
   "execution_count": 2,
   "id": "3cf5ef25-2926-4652-908a-889d9728f248",
   "metadata": {},
   "outputs": [
    {
     "name": "stdin",
     "output_type": "stream",
     "text": [
      "Enter the length of rectangle in centimeter: 50\n",
      "Enter the breadth of rectangle in centimeter: 18.55\n"
     ]
    },
    {
     "name": "stdout",
     "output_type": "stream",
     "text": [
      "The area of rectangle is 927.5 square centimeters\n"
     ]
    }
   ],
   "source": [
    "#4\n",
    "#Area of rectangle\n",
    "l=float(input(\"Enter the length of rectangle in centimeter:\"))\n",
    "b=float(input(\"Enter the breadth of rectangle in centimeter:\"))\n",
    "area=l*b\n",
    "print(f\"The area of rectangle is {area} square centimeters\")"
   ]
  },
  {
   "cell_type": "code",
   "execution_count": null,
   "id": "7e4406b1-870f-427f-9787-58ecd64c50bd",
   "metadata": {},
   "outputs": [],
   "source": []
  }
 ],
 "metadata": {
  "kernelspec": {
   "display_name": "Python 3 (ipykernel)",
   "language": "python",
   "name": "python3"
  },
  "language_info": {
   "codemirror_mode": {
    "name": "ipython",
    "version": 3
   },
   "file_extension": ".py",
   "mimetype": "text/x-python",
   "name": "python",
   "nbconvert_exporter": "python",
   "pygments_lexer": "ipython3",
   "version": "3.13.5"
  }
 },
 "nbformat": 4,
 "nbformat_minor": 5
}
